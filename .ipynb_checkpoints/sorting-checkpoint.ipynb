{
 "cells": [
  {
   "cell_type": "markdown",
   "metadata": {},
   "source": [
    "# Sorting\n",
    "## Insertion Sort\n",
    "\n",
    "#### 1. linear sereach:\n",
    "\n",
    "Implement a function which get the following input and return the output:\n",
    "\n",
    "   **Input**: A list of n numbers $A = [a_1,\\ldots,a_n]$ and a value $v$.\n",
    "\n",
    "   **Output**: An index i such that  A[i] = v or -1 if $v$ does not appear in A.\n",
    " \n",
    "Hint: Using a loop invariant, scans through the sequence, looking\n",
    "for $v$. "
   ]
  },
  {
   "cell_type": "code",
   "execution_count": null,
   "metadata": {},
   "outputs": [],
   "source": []
  },
  {
   "cell_type": "markdown",
   "metadata": {},
   "source": [
    "* what is the complexity of you algorithm?"
   ]
  },
  {
   "cell_type": "code",
   "execution_count": null,
   "metadata": {},
   "outputs": [],
   "source": []
  },
  {
   "cell_type": "markdown",
   "metadata": {},
   "source": [
    "#### Exercise. \n",
    "Modify your function for as follow:\n",
    "\n",
    "   **Input**: A sorted list of numbers $A = [a_1,\\ldots,a_n]$ and a value $v$.\n",
    "   \n",
    "   **output**: insert $v$ into the array so that it remains sorted\n",
    "   \n",
    "Example:  $A = [1,3,5,10,12]$ , $v= 4$\n",
    "\n",
    "output: $[1,3,4,5,10,12]$"
   ]
  },
  {
   "cell_type": "code",
   "execution_count": null,
   "metadata": {},
   "outputs": [],
   "source": []
  },
  {
   "cell_type": "markdown",
   "metadata": {},
   "source": [
    "Now read and implemt the insertion sort:\n",
    "    https://www.geeksforgeeks.org/insertion-sort/"
   ]
  },
  {
   "cell_type": "markdown",
   "metadata": {},
   "source": [
    "#### Exercise:\n",
    "\n",
    "Write a program to generates n random numbers and return the minimum and the maximum of these n numbers. Suppose that (for some secuirty reseon)\n",
    "\n",
    "you are not allow to save the generated numbers in the memory. You can use the following idea:"
   ]
  },
  {
   "cell_type": "raw",
   "metadata": {},
   "source": [
    " Initialize: mini = 0, maxi =0\n",
    "    Reapt:\n",
    "        generate random number x\n",
    "        compare x with mini and maxi and update them if x< mini or x>maxi"
   ]
  },
  {
   "cell_type": "code",
   "execution_count": null,
   "metadata": {},
   "outputs": [],
   "source": []
  },
  {
   "cell_type": "markdown",
   "metadata": {},
   "source": [
    "Implement the **selection sort**:\n",
    "* over the whole array find the position of the maximum element;\n",
    "* swap this element with the last one (because in the sorted array it should be the last, of course) \n",
    "* now regard the sub-array of length N-1, without the last value:\n",
    "   * find the position of maximum element in this sub-array \n",
    "   * swap it with the last element in the sub-array (i.e. with position N-2);\n",
    "   * now regard the sub-array of the length N-2 (without two last elements) - do the following selection and swap and so on;\n",
    "algorithm ends when \"sub-array\" decreases to the length of 1.\n",
    "\n",
    "Read the https://www.geeksforgeeks.org/selection-sort/\n"
   ]
  },
  {
   "cell_type": "raw",
   "metadata": {},
   "source": [
    "Example: \n",
    "[3, 1, 4, 1, 5, 9, 2, 6, 5, 3]      - max is 9 at position 5, swap 5-th with 9-th\n",
    "[3, 1, 4, 1, 5, 3, 2, 6, 5], 9      - max is 6 at position 7, swap 7-th with 8-th\n",
    "[3, 1, 4, 1, 5, 3, 2, 5], 6, 9      - max is 5 at position 4, swap 4-th with 7-th - they are equal!\n",
    "[3, 1, 4, 1, 5, 3, 2], 5, 6, 9      - max is 5 at position 4, swap 4-th with 6-th\n",
    "[3, 1, 4, 1, 2, 3], 5, 5, 6, 9      - max is 4 at position 2, swap 2-th with 5-th\n",
    "[3, 1, 3, 1, 2], 4, 5, 5, 6, 9\n",
    "...\n",
    "[1], 1, 2, 3, 3, 4, 5, 5, 6, 9      - subarray of length 1 is reached, stop an algorithm."
   ]
  },
  {
   "cell_type": "code",
   "execution_count": null,
   "metadata": {},
   "outputs": [],
   "source": []
  },
  {
   "cell_type": "markdown",
   "metadata": {},
   "source": [
    "#### Exercise:\n",
    "Write a function which take a list of length $n>10$ and return the $k$ largest numbers in the list. \n",
    "\n",
    "Hint: it is exactly similar to the selection sort. Only you have to modify it.\n"
   ]
  },
  {
   "cell_type": "code",
   "execution_count": null,
   "metadata": {},
   "outputs": [],
   "source": []
  },
  {
   "cell_type": "markdown",
   "metadata": {},
   "source": [
    "Note that the your implemention includes a nested loop. the first one is repeated n times and the second one is reptead k time. So the complixity of your code is $O(nk)$ which is much smaller compring to $O(n log(n))$. \n"
   ]
  },
  {
   "cell_type": "code",
   "execution_count": null,
   "metadata": {},
   "outputs": [],
   "source": []
  },
  {
   "cell_type": "markdown",
   "metadata": {},
   "source": [
    "## quick sort\n",
    "#### Exercise \n",
    "Write a function to take a list (A) and a value (x) and print all the members of the list which are less than x.\n",
    "\n"
   ]
  },
  {
   "cell_type": "code",
   "execution_count": null,
   "metadata": {},
   "outputs": [],
   "source": []
  },
  {
   "cell_type": "markdown",
   "metadata": {},
   "source": [
    "###   Partion:\n",
    "#### Exercise: \n",
    "* Modify the above function to takes a list say lst and a number (pivot) say x from the input, and return three lists. The first list includes all the numbers in lst less than the pivot x, the second list are equale to x and the third list are greater than x.\n",
    "\n",
    "Example:\n",
    "\n",
    "Input:  lst=[2,5,2,3,6,1,3], pivot= 3\n",
    "\n",
    "Return:  [2,2,1],[3,3],[5,3,6]\n",
    " "
   ]
  },
  {
   "cell_type": "code",
   "execution_count": null,
   "metadata": {},
   "outputs": [],
   "source": [
    "def partion(lst,pivot):\n",
    "    ....\n",
    "    ....\n",
    "    return lst_left,lst_equ,lst_right"
   ]
  },
  {
   "cell_type": "markdown",
   "metadata": {},
   "source": [
    "* write a function to take a list of numbers and return the sumation of positive numbers in the list and also the sumation of negative numbers in the list.   \n",
    "**Hint:** you can call the **partion** you wrote in previous part."
   ]
  },
  {
   "cell_type": "code",
   "execution_count": null,
   "metadata": {},
   "outputs": [],
   "source": []
  },
  {
   "cell_type": "markdown",
   "metadata": {},
   "source": [
    "* We know that a list only includes $\\{1,2,3\\}$. write a function to take the list and sort it.  \n",
    "Hint: you can use partion function (or modify that).  \n"
   ]
  },
  {
   "cell_type": "code",
   "execution_count": null,
   "metadata": {},
   "outputs": [],
   "source": []
  },
  {
   "cell_type": "markdown",
   "metadata": {},
   "source": [
    "* We know that a list only includes $\\{1,2,3,4,5,6,7\\}$. Modify the following function such that the put put be sorted."
   ]
  },
  {
   "cell_type": "code",
   "execution_count": 10,
   "metadata": {},
   "outputs": [
    {
     "name": "stdout",
     "output_type": "stream",
     "text": [
      "[1, 1, 1, 1, 1, 1, 1, 1, 2, 2, 3, 3, 3, 3, 3, 4, 4, 4, 4, 4, 4, 4, 4, 6, 7, 7, 6, 6, 5, 6, 7, 6, 7, 5, 6, 6, 7, 5, 7, 5, 5, 5, 7, 7, 5, 6, 5, 7, 6, 5]\n"
     ]
    }
   ],
   "source": [
    "def limited_sort(lst):\n",
    "    L,E,R    = partion(lst,4)\n",
    "    LL,LE,LR = partion(L,2)\n",
    "    sorted_L = LL+LE+LR\n",
    "    return  sorted_L + E + R\n",
    "\n",
    "# test:\n",
    "lst = [6, 7, 7, 6, 6, 3, 3, 4, 5, 1, 3, 1, 1, 1, 6, 7, 1, 3, 2, 6, 1, 4,\n",
    "       4, 4, 7, 5, 6, 6, 7, 5, 7, 5, 5, 1, 2, 5, 4, 7, 7, 5, 3, 4, 6, 5,\n",
    "       7, 6, 1, 4, 5, 4]\n",
    "print(limited_sort(lst))"
   ]
  },
  {
   "cell_type": "code",
   "execution_count": null,
   "metadata": {},
   "outputs": [],
   "source": []
  },
  {
   "cell_type": "markdown",
   "metadata": {},
   "source": [
    "We can follow the similar idea recursivley to implement **quick sort** algorithm. It based on three steps:\n",
    "\n",
    "    * pivot: For a given array, select the last element x= arr[-1] as pivot, and the reset lst = arr[:-1].\n",
    "    \n",
    "    * Divide: apply the partion function  L,E,R    = partion(lst,x)\n",
    "             \n",
    "    * Conquer: sort list L, and R by calling the quicksort function (recurrssive structure) as \n",
    "                     sorted_L = quicksort(L), sorted_R = quicksort(R)\n",
    "                     \n",
    "    * Combine: combine the result as sorted_L + E + sorted_R\n",
    "\n",
    "Ok, it might be tricky so you can cheet. \n",
    "https://www.geeksforgeeks.org/quick-sort/\n",
    "\n",
    "Note that our implemntaion is a little different. We did not effieciently in useing momery. The above implemntion is better. \n",
    "\n",
    "You have to know that **running time of quick sort is $O(n\\log(n))$**. So it is the **most effiecient** method for sorting. It means that the algorithm do roughly $n\\log(n)$ to sort an array of length $n$. \n",
    "\n",
    "<img src=\"pics/sorting.png\" alt=\"quicksort\" style=\"width: 400px;\"/>"
   ]
  },
  {
   "cell_type": "code",
   "execution_count": null,
   "metadata": {},
   "outputs": [],
   "source": []
  },
  {
   "cell_type": "markdown",
   "metadata": {},
   "source": [
    "In the above implementation, we used the last element of the array as pivot which is the worst case if the array is sorted. Modify the function such that the pivot is selected as the median of the left, right and middle items. This idea dramtically improves the worst-case performance.\n"
   ]
  },
  {
   "cell_type": "code",
   "execution_count": null,
   "metadata": {},
   "outputs": [],
   "source": []
  },
  {
   "cell_type": "markdown",
   "metadata": {},
   "source": [
    "We will later come back to the other sorting algorithms. It might be good to review them from other refrences. To close this section, I just want to summerize different sorting algorithms:\n",
    "\n",
    "\n",
    "<img src=\"pics/performance.png\" alt=\"quicksort\" style=\"width: 400px;\"/>\n"
   ]
  },
  {
   "cell_type": "markdown",
   "metadata": {},
   "source": [
    "# Application of Sorting\n",
    "\n",
    "In many problems, it is really useful to sort the array of inputs, after that the problem become much easier.\n",
    "You can use the following commond to sort the list in python.\n",
    "\n"
   ]
  },
  {
   "cell_type": "code",
   "execution_count": 21,
   "metadata": {},
   "outputs": [
    {
     "name": "stdout",
     "output_type": "stream",
     "text": [
      "[2, 5, 9, 10, 'a', 'h']\n"
     ]
    }
   ],
   "source": [
    "arr        = [5,2,10,9,'h','a']\n",
    "sorted_arr = sorted(arr)\n",
    "print(sorted_arr)"
   ]
  },
  {
   "cell_type": "markdown",
   "metadata": {},
   "source": [
    "#### Exercise:\n",
    "write a function to take an array and return the median of the array.\n",
    "\n",
    "Note: The running time of the algorithm by useing sorting is $O(n\\log(n))$. There is some better method for which the \n",
    "running time is $O(n)$. You can search for that. Altough, it is a little complicated."
   ]
  },
  {
   "cell_type": "code",
   "execution_count": null,
   "metadata": {},
   "outputs": [],
   "source": []
  },
  {
   "cell_type": "markdown",
   "metadata": {},
   "source": [
    "#### Exercise:\n",
    "\n",
    "Given an array, find the least frequent element in it. If there are multiple elements that appear least number of times, print any one of them.\n",
    "\n",
    "Examples:\n",
    "\n",
    "Input : arr[] = {1, 3, 2, 1, 2, 2, 3, 1}  \n",
    "Output : 3  \n",
    "3 appears minimum number of times in given\n",
    "array.\n",
    "  \n",
    "Input : arr[] = {10, 20, 30}  \n",
    "Output : 10 or 20 or 30  "
   ]
  },
  {
   "cell_type": "markdown",
   "metadata": {},
   "source": []
  },
  {
   "cell_type": "markdown",
   "metadata": {},
   "source": [
    "Given an array, the task is to find maximum triplet sum in the array. (finding three numbers in the array which \n",
    "has the largest summation).\n",
    "\n",
    "Examples:\n",
    "\n",
    "Input : arr = [1, 2, 3, 0, -1, 8, 10]   \n",
    "Output : 21  \n",
    "10 + 8 + 3 = 21  \n",
    "\n",
    "Input : arr = [9, 8, 20, 3, 4, -1, 0]   \n",
    "Output : 37  \n",
    "20 + 9 + 8 = 37  \n",
    "\n",
    "Hint: what if you sort the array?"
   ]
  },
  {
   "cell_type": "code",
   "execution_count": null,
   "metadata": {},
   "outputs": [],
   "source": []
  },
  {
   "cell_type": "markdown",
   "metadata": {},
   "source": [
    "Given an array of positive integers. We are required to write a program to print the minimum product of any two numbers of the given array.\n",
    "\n",
    "Examples:\n",
    "\n",
    "Input : 11 8 5 7 5 100  \n",
    "Output : 25   \n",
    "Explanation : The minimum product of any \n",
    "two numbers will be 5 * 5 = 25.  \n",
    "\n",
    "can you use a nested loop to solve this problem? why it is not efficient? "
   ]
  },
  {
   "cell_type": "code",
   "execution_count": null,
   "metadata": {},
   "outputs": [],
   "source": []
  },
  {
   "cell_type": "markdown",
   "metadata": {},
   "source": [
    "Given an array of integers, sort the first half of the array in ascending order and second half in descending order.\n",
    "\n",
    "Examples:  \n",
    "\n",
    "Input : arr = [5, 2, 4, 7, 9, 3, 1, 6, 8]  \n",
    "Output :      [1, 2, 3, 4, 9, 8, 7, 6, 5] \n"
   ]
  },
  {
   "cell_type": "code",
   "execution_count": null,
   "metadata": {},
   "outputs": [],
   "source": []
  },
  {
   "cell_type": "markdown",
   "metadata": {},
   "source": [
    "Given an array of size n, the goal is to find out the smallest number that is repeated exactly ‘k’ times where k > 0?\n",
    "\n",
    "Examples:  \n",
    "\n",
    "Input : arr = [2, 2, 1, 3, 1]\n",
    "        k = 2  \n",
    "Output: 1  \n",
    "Explanation:  \n",
    "Here in array,  \n",
    "2 is repeated 2 times  \n",
    "1 is repeated 2 times   \n",
    "3 is repeated 1 time  \n",
    "Hence 2 and 1 both are repeated 'k' times  \n",
    "i.e 2 and min(2, 1) is 1  "
   ]
  },
  {
   "cell_type": "code",
   "execution_count": null,
   "metadata": {},
   "outputs": [],
   "source": []
  },
  {
   "cell_type": "markdown",
   "metadata": {},
   "source": [
    "Given an array of size n and a number k, we need to print first k natural numbers that are not there in given array.\n",
    "\n",
    "\n",
    "Examples:  \n",
    "  \n",
    "Input : [2 3 4]   \n",
    "         k = 3  \n",
    "Output : [1 5 6]  \n",
    "  \n",
    "Input  : [-2 -3 4]   \n",
    "          k = 2  \n",
    "Output : [1 2]  "
   ]
  },
  {
   "cell_type": "code",
   "execution_count": null,
   "metadata": {},
   "outputs": [],
   "source": []
  }
 ],
 "metadata": {
  "kernelspec": {
   "display_name": "Python 2",
   "language": "python",
   "name": "python2"
  },
  "language_info": {
   "codemirror_mode": {
    "name": "ipython",
    "version": 2
   },
   "file_extension": ".py",
   "mimetype": "text/x-python",
   "name": "python",
   "nbconvert_exporter": "python",
   "pygments_lexer": "ipython2",
   "version": "2.7.14"
  }
 },
 "nbformat": 4,
 "nbformat_minor": 2
}
