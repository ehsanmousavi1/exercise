{
 "cells": [
  {
   "cell_type": "markdown",
   "metadata": {},
   "source": [
    "# Recurssion\n",
    "\n",
    "Read chapter 4 of this refrence:\n",
    "https://www.cs.auckland.ac.nz/courses/compsci105s1c/resources/ProblemSolvingwithAlgorithmsandDataStructures.pdf\n",
    "\n",
    "1. A recursive algorithm must have a base case.\n",
    "2. A recursive algorithm must change its state and move toward the base case. \n",
    "3. A recursive algorithm must call itself, recursively.\n",
    "\n"
   ]
  },
  {
   "cell_type": "markdown",
   "metadata": {},
   "source": [
    "By using the recurssion find the minimum of a list"
   ]
  },
  {
   "cell_type": "code",
   "execution_count": null,
   "metadata": {},
   "outputs": [],
   "source": [
    "def mini_rec(lst):\n",
    "    if len(lst)==1:\n",
    "        return lst[0]\n",
    "    else:\n",
    "        m = mini_rec(lst[:-1])  # minimum of the first n-1 elements\n",
    "        last = lst[-1]\n",
    "        return min(last,m)"
   ]
  },
  {
   "cell_type": "markdown",
   "metadata": {},
   "source": [
    "write a recurssion function to find the summation of a list.   \n",
    "Hint: you look at this figure.\n",
    "\n",
    "<img src=\"pics/recurssion.png\" alt=\"Drawing\" style=\"width: 300px;\"/>\n",
    "\n"
   ]
  },
  {
   "cell_type": "code",
   "execution_count": 5,
   "metadata": {},
   "outputs": [
    {
     "data": {
      "text/plain": [
       "15"
      ]
     },
     "execution_count": 5,
     "metadata": {},
     "output_type": "execute_result"
    }
   ],
   "source": [
    "def summation(x):\n",
    "    if len(x) == 1:\n",
    "        return x[0]\n",
    "    else:\n",
    "        y = summation(x[1:])\n",
    "        last = x[0] + y\n",
    "        return last\n",
    "summation([1,2,3,4,5])\n",
    "        "
   ]
  },
  {
   "cell_type": "markdown",
   "metadata": {},
   "source": [
    "write a recussion function to take n as input and compute n factorial defined by\n",
    "$$n! = 1\\times 2\\times \\cdots\\times n$$"
   ]
  },
  {
   "cell_type": "code",
   "execution_count": null,
   "metadata": {},
   "outputs": [],
   "source": [
    "def factorial(x):\n",
    "    if x == 1:\n",
    "        return 1\n",
    "    else:\n",
    "        return factorial(x-1) * x"
   ]
  },
  {
   "cell_type": "markdown",
   "metadata": {},
   "source": [
    "There are only 10 dogs in town. Every year the population of dogs become twice. Write a recurression function to find the the population of dogs after $n$ years."
   ]
  },
  {
   "cell_type": "code",
   "execution_count": null,
   "metadata": {},
   "outputs": [],
   "source": [
    "def findDogs(n):\n",
    "    if n == 0:\n",
    "        return 10\n",
    "    else:\n",
    "        return findDogs(n-1) * 2\n",
    "    \n",
    "findDogs(9)"
   ]
  },
  {
   "cell_type": "markdown",
   "metadata": {},
   "source": [
    "With letters $a,b$ how many different strings you can genrate with length $n$. Write a recurssion function to compute that.\n",
    "  \n"
   ]
  },
  {
   "cell_type": "code",
   "execution_count": 9,
   "metadata": {},
   "outputs": [
    {
     "data": {
      "text/plain": [
       "4"
      ]
     },
     "execution_count": 9,
     "metadata": {},
     "output_type": "execute_result"
    }
   ],
   "source": [
    "def lenStrings(n):\n",
    "    if n == 1:\n",
    "        return 2\n",
    "    else:\n",
    "        return lenStrings(n-1) * 2\n",
    "\n",
    "lenStrings(2)     \n",
    "        \n",
    "        \n",
    "        "
   ]
  },
  {
   "cell_type": "markdown",
   "metadata": {},
   "source": [
    "Write a recursive function to reverse a list.\n",
    "    "
   ]
  },
  {
   "cell_type": "code",
   "execution_count": 10,
   "metadata": {},
   "outputs": [
    {
     "data": {
      "text/plain": [
       "[5, 4, 3, 2, 1]"
      ]
     },
     "execution_count": 10,
     "metadata": {},
     "output_type": "execute_result"
    }
   ],
   "source": [
    "def reversi(lst):\n",
    "    if len(lst) == 0:\n",
    "        return lst\n",
    "    else:\n",
    "        last = reversi(lst[:-1])\n",
    "        return [lst[-1]]+last\n",
    "\n",
    "reversi([1,2,3,4,5])\n",
    "        "
   ]
  },
  {
   "cell_type": "markdown",
   "metadata": {},
   "source": [
    "\n",
    "Write a recursive function to compute the Fibonacci sequence. How does the perfor- mance of the recursive function compare to that of an iterative version?\n",
    "\n",
    "$$ F[n] = F[n-1]+ F[n-2]$$\n",
    "and $F[0] =1,F[1]=1$"
   ]
  },
  {
   "cell_type": "code",
   "execution_count": null,
   "metadata": {},
   "outputs": [],
   "source": [
    "def fibonnaci(x):\n",
    "    if (x == 0) or (x == 1):\n",
    "        return 1\n",
    "    else: \n",
    "        return fibonnaci(x-1)+fibonnaci(x-2)\n",
    "\n",
    "fibonnaci(10)\n"
   ]
  },
  {
   "cell_type": "markdown",
   "metadata": {},
   "source": [
    "Sum of digit of a number using recursion  \n",
    "Given a number, we need to find sum of its digits using recursion.  \n",
    "\n",
    "Examples:  \n",
    "\n",
    "Input : 12345  \n",
    "Output : 15  \n",
    "\n",
    "Input : 45632  \n",
    "Output :20  \n",
    "          "
   ]
  },
  {
   "cell_type": "code",
   "execution_count": 12,
   "metadata": {},
   "outputs": [
    {
     "data": {
      "text/plain": [
       "15"
      ]
     },
     "execution_count": 12,
     "metadata": {},
     "output_type": "execute_result"
    }
   ],
   "source": [
    "def sumDigits(x):\n",
    "    if x == 0:\n",
    "        return 0\n",
    "    else:\n",
    "        rem = x % 10\n",
    "        divisor = x//10\n",
    "        summation = sumDigits(divisor)+rem\n",
    "        return summation\n",
    "sumDigits(12345)\n",
    "        "
   ]
  },
  {
   "cell_type": "markdown",
   "metadata": {},
   "source": [
    "Generate all binary strings without consecutive 1’s  \n",
    "Given a integer K. Task is Print All binary string of size K (Given number).  \n",
    "\n",
    "Examples:  \n",
    "\n",
    "Input : K = 3    \n",
    "Output : 000 , 001 , 010 , 100 , 101\n",
    "\n",
    "Input : K  = 4   \n",
    "Output :0000 0001 0010 0100 0101 1000 1001 1010    "
   ]
  },
  {
   "cell_type": "code",
   "execution_count": 13,
   "metadata": {},
   "outputs": [
    {
     "data": {
      "text/plain": [
       "['000', '001', '010', '100', '101']"
      ]
     },
     "execution_count": 13,
     "metadata": {},
     "output_type": "execute_result"
    }
   ],
   "source": [
    "def consecutiveNum(n):\n",
    "    if n == 1:\n",
    "        return [\"0\",\"1\"]\n",
    "    else:\n",
    "        s = consecutiveNum(n-1)\n",
    "        result = []\n",
    "        for x in s:\n",
    "            if x[-1] == \"0\":\n",
    "                result.append(x + \"0\")\n",
    "                result.append(x + \"1\")\n",
    "            else:\n",
    "                result.append(x+\"0\")\n",
    "        return result\n",
    "\n",
    "consecutiveNum(3)"
   ]
  },
  {
   "cell_type": "code",
   "execution_count": null,
   "metadata": {},
   "outputs": [],
   "source": [
    "Given a collection of distinct integers, return all possible permutations.\n",
    "\n",
    "Input: [1,2,3] \n",
    "Output:\n",
    "[ \n",
    "  [1,2,3], \n",
    "  [1,3,2], \n",
    "  [2,1,3], \n",
    "  [2,3,1], \n",
    "  [3,1,2], \n",
    "  [3,2,1] \n",
    "] "
   ]
  },
  {
   "cell_type": "code",
   "execution_count": 14,
   "metadata": {},
   "outputs": [
    {
     "data": {
      "text/plain": [
       "[[1, 2, 3], [1, 3, 2], [2, 3, 1], [2, 1, 3], [3, 1, 2], [3, 2, 1]]"
      ]
     },
     "execution_count": 14,
     "metadata": {},
     "output_type": "execute_result"
    }
   ],
   "source": [
    "def permutation(x):\n",
    "    if len(x) == 0:\n",
    "        return [[]]\n",
    "    else:\n",
    "        result = []\n",
    "        for i in range(len(x)):\n",
    "           f = x[i]\n",
    "           others = x[i+1:]+x[:i]\n",
    "           g = permutation(others)\n",
    "           for j in g:\n",
    "               result.append([f]+j)\n",
    "        return result\n",
    "permutation([1,2,3])        \n",
    "        "
   ]
  },
  {
   "cell_type": "markdown",
   "metadata": {},
   "source": [
    "Given a group (set) of people, we want to select some of them to form a commitee. \n",
    "return all possiblities.\n",
    "\n",
    "Input: [a,b,c]  \n",
    "Output:  \n",
    "[ [],[b],[c],[b,c],[a],[a,b],[a,c],[a,b,c]]    \n",
    "\n",
    "Hint: You have two cases. Member 'a' may or maynot belonges to the selected commitee. \n",
    "\n",
    "\n"
   ]
  },
  {
   "cell_type": "code",
   "execution_count": 15,
   "metadata": {},
   "outputs": [
    {
     "data": {
      "text/plain": [
       "[[], [1], [2], [2, 1], [3], [3, 1], [3, 2], [3, 2, 1]]"
      ]
     },
     "execution_count": 15,
     "metadata": {},
     "output_type": "execute_result"
    }
   ],
   "source": [
    "def setPeople(lst):\n",
    "    if len(lst) == 0:\n",
    "        return [[]]\n",
    "    else:\n",
    "        first = lst[0]\n",
    "        others = lst[1:]\n",
    "        committe = setPeople(others)\n",
    "        result = []\n",
    "        for x in committe:\n",
    "            result.append(x)\n",
    "            result.append(x+[first])\n",
    "        return result \n",
    "setPeople([1,2,3])"
   ]
  },
  {
   "cell_type": "markdown",
   "metadata": {},
   "source": [
    "In a Bineary search tree, most of the implemntation is much easier if you think, recursively.  \n",
    "\n",
    "write a recursive function to take a binary search tree and return its minimum.   \n",
    "\n",
    "Hint: Is the minimum in right hand side or in the left hand side?\n",
    "    \n",
    "    \n"
   ]
  },
  {
   "cell_type": "code",
   "execution_count": null,
   "metadata": {},
   "outputs": [],
   "source": [
    "#Left Hand side\n",
    "def miniMe(node):\n",
    "    result = node\n",
    "    while(node.left is None):\n",
    "        result = result.left\n",
    "    return result.data\n"
   ]
  },
  {
   "cell_type": "markdown",
   "metadata": {},
   "source": [
    "write a recursive function to take a binary search tree and return its maximum.   \n",
    "\n",
    "Hint: Is the minimum in right hand side or in the left hand side?"
   ]
  },
  {
   "cell_type": "code",
   "execution_count": null,
   "metadata": {},
   "outputs": [],
   "source": [
    "def maxiMe(node):\n",
    "    result = node\n",
    "    while(node.right is None):\n",
    "        result = result.right\n",
    "    return result.data"
   ]
  },
  {
   "cell_type": "markdown",
   "metadata": {},
   "source": [
    "Given a binary tree, determine if it is a valid binary search tree (BST).  \n",
    "\n",
    "Assume a BST is defined as follows:  \n",
    "\n",
    "The left subtree of a node contains only nodes with keys less than the node's key.\n",
    "The right subtree of a node contains only nodes with keys greater than the node's key.\n",
    "Both the left and right subtrees must also be binary search trees.   \n",
    "Example 1:   \n",
    "\n",
    "Input:  \n",
    "    2  \n",
    "   /  \\     \n",
    "  1    3    \n",
    "Output: true   \n"
   ]
  },
  {
   "cell_type": "code",
   "execution_count": null,
   "metadata": {},
   "outputs": [],
   "source": [
    "def validBST(node, lower, higher):\n",
    "    if node == None:\n",
    "        return True\n",
    "    if lower is not None and node.value <= lower:\n",
    "        return False\n",
    "    if higher is not None and node.value <= higher:\n",
    "        return False\n",
    "    return validBST(node.left,lower,node.value) and validBST(node.right, higher, node.value)"
   ]
  },
  {
   "cell_type": "markdown",
   "metadata": {},
   "source": [
    "Given a binary tree, Find the summation of all elements.  \n",
    "\n",
    "Assume a BST is defined as follows:  \n",
    "\n",
    "\n",
    "Input:  \n",
    "    2     \n",
    "   /  \\         \n",
    "  1            3        \n",
    "Output: 6     \n"
   ]
  },
  {
   "cell_type": "code",
   "execution_count": null,
   "metadata": {},
   "outputs": [],
   "source": []
  }
 ],
 "metadata": {
  "kernelspec": {
   "display_name": "Python 3",
   "language": "python",
   "name": "python3"
  },
  "language_info": {
   "codemirror_mode": {
    "name": "ipython",
    "version": 3
   },
   "file_extension": ".py",
   "mimetype": "text/x-python",
   "name": "python",
   "nbconvert_exporter": "python",
   "pygments_lexer": "ipython3",
   "version": "3.6.4"
  }
 },
 "nbformat": 4,
 "nbformat_minor": 2
}
