{
 "cells": [
  {
   "cell_type": "markdown",
   "metadata": {},
   "source": [
    "# Iteration: IF and For loop\n",
    "These exercises are given from https://www.w3resource.com/python-exercises/python-conditional-statements-and-loop-exercises.php"
   ]
  },
  {
   "cell_type": "markdown",
   "metadata": {},
   "source": [
    "#### 1) Exercise:  \n",
    "We had this exercise in the past, but lets review it:\n",
    "    * Write a function to get a characheter as input and return True if the charachter is vowel\n",
    "    * Use the function you wrote in previouse part, and write a function get a string as in put and count vowel in that stirng"
   ]
  },
  {
   "cell_type": "code",
   "execution_count": 1,
   "metadata": {},
   "outputs": [
    {
     "data": {
      "text/plain": [
       "False"
      ]
     },
     "execution_count": 1,
     "metadata": {},
     "output_type": "execute_result"
    }
   ],
   "source": [
    "def vowels(x):\n",
    "    y = [\"a\", \"o\", \"u\", \"i\", \"e\", \"y\"]\n",
    "    if x in y:\n",
    "        return True\n",
    "    else:\n",
    "        return False\n",
    "vowels('g')"
   ]
  },
  {
   "cell_type": "code",
   "execution_count": 2,
   "metadata": {},
   "outputs": [
    {
     "data": {
      "text/plain": [
       "3"
      ]
     },
     "execution_count": 2,
     "metadata": {},
     "output_type": "execute_result"
    }
   ],
   "source": [
    "def count(x):\n",
    "    count = 0\n",
    "    for i in range(len(x)):\n",
    "        if vowels(x[i]):\n",
    "            count+=1\n",
    "    return count\n",
    "count('EhsanAysun')"
   ]
  },
  {
   "cell_type": "markdown",
   "metadata": {},
   "source": [
    "#### Exercise:\n",
    "Write a function to get n as the input and return the following summatation:\n",
    "\n",
    "$$1^3 +\\ldots+n^3$$\n",
    "\n",
    "Hint: recall the idea of defineing a variable sumall. "
   ]
  },
  {
   "cell_type": "code",
   "execution_count": 5,
   "metadata": {},
   "outputs": [
    {
     "data": {
      "text/plain": [
       "3413"
      ]
     },
     "execution_count": 5,
     "metadata": {},
     "output_type": "execute_result"
    }
   ],
   "source": [
    "def sumcub(n):\n",
    "    sumall = 0\n",
    "    for i in range(1,n+1):\n",
    "        sumall += i**i\n",
    "    return sumall\n",
    "sumcub(5)"
   ]
  },
  {
   "cell_type": "markdown",
   "metadata": {},
   "source": [
    "#### Exercise: \n",
    "Write a function that checks whether an element occurs in a list. If it is in the list return the index of the number. "
   ]
  },
  {
   "cell_type": "code",
   "execution_count": 3,
   "metadata": {},
   "outputs": [
    {
     "data": {
      "text/plain": [
       "1"
      ]
     },
     "execution_count": 3,
     "metadata": {},
     "output_type": "execute_result"
    }
   ],
   "source": [
    "def element(x,y):\n",
    "    if y in x:\n",
    "        return x.index(y)\n",
    "element([1,2,3,4,5],2)"
   ]
  },
  {
   "cell_type": "markdown",
   "metadata": {},
   "source": [
    "#### Exercise: \n",
    "Modify the following code and write a function to get a list as the input and returns the elements on even positions in a list."
   ]
  },
  {
   "cell_type": "code",
   "execution_count": null,
   "metadata": {},
   "outputs": [],
   "source": [
    "for (i,x) in enumerate([3,4,5,5,6,7,8]):\n",
    "    if i//2 != 1:\n",
    "        print (str(x) + ' is in odd position')"
   ]
  },
  {
   "cell_type": "code",
   "execution_count": null,
   "metadata": {},
   "outputs": [],
   "source": [
    "#### solution:\n"
   ]
  },
  {
   "cell_type": "markdown",
   "metadata": {},
   "source": [
    "#### Exercise:\n",
    "Write a Python program to find (print) those numbers which are divisible by 7 and multiple of 5, between 1500 and 2700 (both included)."
   ]
  },
  {
   "cell_type": "code",
   "execution_count": 6,
   "metadata": {},
   "outputs": [
    {
     "name": "stdout",
     "output_type": "stream",
     "text": [
      "[1505, 1540, 1575, 1610, 1645, 1680, 1715, 1750, 1785, 1820, 1855, 1890, 1925, 1960, 1995, 2030, 2065, 2100, 2135, 2170, 2205, 2240, 2275, 2310, 2345, 2380, 2415, 2450, 2485, 2520, 2555, 2590, 2625, 2660, 2695]\n"
     ]
    }
   ],
   "source": [
    "def sevenFive():\n",
    "    lst = []\n",
    "    for x in range(1500,2700):\n",
    "        if (x % 5 == 0) and (x % 7 == 0):\n",
    "            lst.append(x)\n",
    "    print (lst)\n",
    "sevenFive()"
   ]
  },
  {
   "cell_type": "markdown",
   "metadata": {},
   "source": [
    "#### Exercise:\n",
    "Modify the above solution to a **function**. The inputs of the function are a and b. The output of the function is list of the numbers which divisible by 7 and multiple of 5, between 1500 and 2700 (both included).\n",
    "\n",
    "Hint: In each iteration you can **append** the new number if it satisfy the condition. "
   ]
  },
  {
   "cell_type": "code",
   "execution_count": 9,
   "metadata": {},
   "outputs": [
    {
     "data": {
      "text/plain": [
       "[1505,\n",
       " 1540,\n",
       " 1575,\n",
       " 1610,\n",
       " 1645,\n",
       " 1680,\n",
       " 1715,\n",
       " 1750,\n",
       " 1785,\n",
       " 1820,\n",
       " 1855,\n",
       " 1890,\n",
       " 1925,\n",
       " 1960,\n",
       " 1995,\n",
       " 2030,\n",
       " 2065,\n",
       " 2100,\n",
       " 2135,\n",
       " 2170,\n",
       " 2205,\n",
       " 2240,\n",
       " 2275,\n",
       " 2310,\n",
       " 2345,\n",
       " 2380,\n",
       " 2415,\n",
       " 2450,\n",
       " 2485,\n",
       " 2520,\n",
       " 2555,\n",
       " 2590,\n",
       " 2625,\n",
       " 2660,\n",
       " 2695]"
      ]
     },
     "execution_count": 9,
     "metadata": {},
     "output_type": "execute_result"
    }
   ],
   "source": [
    "\n",
    "def sevenFive(a,b):\n",
    "    lst = []\n",
    "    for x in range(a,b):\n",
    "        if (x % 5 == 0) and (x % 7 == 0):\n",
    "            lst.append(x)\n",
    "    return lst\n",
    "sevenFive(1500,2700)"
   ]
  },
  {
   "cell_type": "markdown",
   "metadata": {},
   "source": [
    "#### Exercise:\n",
    " Modify the above function to just count (so you donot need to append the result in a list just count that). Recall summall."
   ]
  },
  {
   "cell_type": "code",
   "execution_count": 8,
   "metadata": {},
   "outputs": [
    {
     "data": {
      "text/plain": [
       "35"
      ]
     },
     "execution_count": 8,
     "metadata": {},
     "output_type": "execute_result"
    }
   ],
   "source": [
    "def count_divisible(a,b):\n",
    "    count = 0\n",
    "    for x in range(a,b):\n",
    "        if (x % 5 == 0) and (x % 7 == 0):\n",
    "            count += 1\n",
    "    return count\n",
    "count_divisible(1500,2700)"
   ]
  },
  {
   "cell_type": "markdown",
   "metadata": {},
   "source": [
    "#### Exercise:\n",
    "Write a Python function that print all the numbers from 0 to 6 except 3 and 6.\n",
    "\n",
    "Note : Use **continue** statement. \n",
    "\n",
    "Expected Output : 0 1 2 4 5 "
   ]
  },
  {
   "cell_type": "code",
   "execution_count": null,
   "metadata": {},
   "outputs": [],
   "source": [
    "def countEvenOdd(x):\n",
    "    count, count1 = 0,0\n",
    "    for s in x:\n",
    "        if s % 2 == 0:\n",
    "            count+=1\n",
    "        if s % 2 == 1:\n",
    "            count1+=1 \n",
    "    return count,count1\n",
    "countEvenOdd([1, 2, 3, 4, 5, 6, 7, 8, 9])"
   ]
  },
  {
   "cell_type": "markdown",
   "metadata": {},
   "source": [
    "# Iteration: While loop\n",
    "\n",
    "You are expected to read first 113-122 pages of the this lecture notes. \n",
    "http://python.cs.southern.edu/pythonbook/pythonbook.pdf\n",
    "\n",
    "Let's start with sevral important points:\n",
    "\n",
    "* Whenever you want to repeat a procedure:\n",
    "   * you **know how many times** you want to repeat, then use **for loop**\n",
    "   * if you **don't know how many times** you want to repeat, then use **while loop**\n",
    "   \n",
    "Example: For each of the following cases, determine you will use while or for loop:\n",
    "* Repteradly ask for password, **until** get a correct one. Then, you use .....\n",
    "* Roll a dice **until**, get a six. \n",
    "* Roll a dice 1000 times and count number of times get 6.\n",
    "\n",
    "### Flag variable\n",
    "Most of the time it is easier to use a **flag variable** to determine the termination condition o while loop. Flag varible is True/False (boolean varible) which is intially true and you set it false to terminate the iteraion.\n",
    "\n",
    "Example: Enter number **until**, get an odd number. "
   ]
  },
  {
   "cell_type": "code",
   "execution_count": null,
   "metadata": {},
   "outputs": [],
   "source": [
    "flag = True     # intilize the flag\n",
    "while flag:\n",
    "    x = int(input())   #read the input and convert it to a integer( it is string)\n",
    "    if x % 2 == 0:     # check if it is even\n",
    "        flag = False   #Terminete by setting the flag to false"
   ]
  },
  {
   "cell_type": "markdown",
   "metadata": {},
   "source": [
    "#### Exercise:\n",
    "Modify the above code such that enter number **until**, get the summation of the number is 20. \n",
    "(Hint: you need a sumall variable) "
   ]
  },
  {
   "cell_type": "code",
   "execution_count": 12,
   "metadata": {},
   "outputs": [
    {
     "name": "stdout",
     "output_type": "stream",
     "text": [
      "2\n",
      "5\n",
      "10\n",
      "30\n",
      "summation of the numbers is 47\n"
     ]
    }
   ],
   "source": [
    "flag = True    \n",
    "sumall = 0\n",
    "while flag:\n",
    "    x = int(input()) \n",
    "    sumall += x\n",
    "    if sumall >= 20:     # check if it is even\n",
    "        flag = False\n",
    "print('summation of these numbers is '+ str(sumall))"
   ]
  },
  {
   "cell_type": "markdown",
   "metadata": {},
   "source": [
    "#### Exercise:\n",
    "\n",
    "Write a Python program that allows the user to enter any number. The user terminates the input list with any negative value. The program then prints the sum, average (arithmetic mean), maximum, and minimum of the values entered. The terminating negative value is not used in the computations."
   ]
  },
  {
   "cell_type": "code",
   "execution_count": 14,
   "metadata": {},
   "outputs": [],
   "source": [
    "# The solution is not correct "
   ]
  },
  {
   "cell_type": "markdown",
   "metadata": {},
   "source": [
    "## counter\n",
    "The other idea is using a **counter** which incremented in each iteration. \n",
    "Example: Suppose every year wealth become double. In how many year you become a billioner. Write that as a function of your current wealth. \n"
   ]
  },
  {
   "cell_type": "code",
   "execution_count": 15,
   "metadata": {},
   "outputs": [
    {
     "name": "stdout",
     "output_type": "stream",
     "text": [
      "20000\n",
      "40000\n",
      "80000\n",
      "160000\n",
      "320000\n",
      "640000\n",
      "1280000\n",
      "2560000\n",
      "5120000\n",
      "10240000\n",
      "20480000\n",
      "40960000\n",
      "81920000\n",
      "163840000\n"
     ]
    },
    {
     "data": {
      "text/plain": [
       "14"
      ]
     },
     "execution_count": 15,
     "metadata": {},
     "output_type": "execute_result"
    }
   ],
   "source": [
    "def Billionaire(wealth):\n",
    "    counter = 0\n",
    "    while  wealth < 100000000:\n",
    "       counter +=1\n",
    "       wealth = 2 * wealth\n",
    "       print wealth\n",
    "    return counter\n",
    "Billionaire(10000)"
   ]
  },
  {
   "cell_type": "markdown",
   "metadata": {},
   "source": [
    "#### Exercise:\n",
    "Write a functuion to get a list of words as input an find the first one which has at least 4 charchter (e.i. len(word)>3)\n",
    "\n"
   ]
  },
  {
   "cell_type": "code",
   "execution_count": 17,
   "metadata": {},
   "outputs": [
    {
     "data": {
      "text/plain": [
       "'ghef'"
      ]
     },
     "execution_count": 17,
     "metadata": {},
     "output_type": "execute_result"
    }
   ],
   "source": [
    "def long_word(x):\n",
    "    counter = 0\n",
    "    while len(x[counter]) < 4 and (counter<len(x)):\n",
    "            counter = counter + 1\n",
    "    if (counter<len(x)):\n",
    "        return x[counter]\n",
    "    else:\n",
    "        print(\"The length of all words in x is less than 4\")\n",
    "        return None\n",
    "    \n",
    "x = ['ae','bad','ghef','sdasdnaskd']\n",
    "long_word(x)"
   ]
  },
  {
   "cell_type": "markdown",
   "metadata": {},
   "source": [
    "#### Exercise:\n",
    "How many asterisks does the following code fragment print? You ansewr deponds on n so you can not run it :)"
   ]
  },
  {
   "cell_type": "code",
   "execution_count": 18,
   "metadata": {},
   "outputs": [
    {
     "name": "stdout",
     "output_type": "stream",
     "text": [
      "* * * * * * * * * * * * * * * * * * * *\n"
     ]
    }
   ],
   "source": [
    "N = 100\n",
    "counter = 0\n",
    "while counter < N:\n",
    "    if counter % 5 == 0:\n",
    "        print '*',  \n",
    "    counter += 1\n",
    "print"
   ]
  },
  {
   "cell_type": "code",
   "execution_count": 5,
   "metadata": {},
   "outputs": [
    {
     "name": "stdout",
     "output_type": "stream",
     "text": [
      "* * * * * * * * * * * * * * * * * * * * ()\n"
     ]
    }
   ],
   "source": [
    "N = ?\n",
    "counter = 0\n",
    "while counter < N:\n",
    "    if counter % 5 == 0:\n",
    "        print '*',  \n",
    "    counter += 1\n",
    "print"
   ]
  },
  {
   "cell_type": "markdown",
   "metadata": {},
   "source": [
    "#### Exerecis:\n",
    "It is known that \n",
    "$$\\frac{\\pi^2}{6} \\approx 1+ \\frac{1}{2^2}+\\frac{1}{3^2}+\\frac{1}{4^2}+\\ldots+\\frac{1}{n^2}$$.\n",
    "for large n. Write a function to get n as input and return the differnce between right hand side and left hand side. (Hint: Should we use for or while? You can itertivly sum the numbers by using sumall. (I know you hate sumall!!!)\n"
   ]
  },
  {
   "cell_type": "code",
   "execution_count": 21,
   "metadata": {},
   "outputs": [
    {
     "data": {
      "text/plain": [
       "0.010050166663334137"
      ]
     },
     "execution_count": 21,
     "metadata": {},
     "output_type": "execute_result"
    }
   ],
   "source": [
    "import math\n",
    "from __future__ import division\n",
    "\n",
    "def approximation(n):\n",
    "    sumi = 0\n",
    "    for i in range(1,n):\n",
    "       sumi += 1/i**2\n",
    "    return math.pi**2/6 - sumi\n",
    "approximation(100)"
   ]
  },
  {
   "cell_type": "markdown",
   "metadata": {},
   "source": [
    "Now, we want to find how big $n$ should be such that the right hand side gives a good approximation for the left hand side. \n",
    "Iterativley, compute the left hand side and find an n for which the difference of right hand side and left hand side is less than .001.\n",
    "So we follow this procedure:\n",
    " * Initialize: $summall = 0$, $n=0$\n",
    " * Repeat $   \\frac{\\pi^2}{6} - summall >.01$:\n",
    "      * n += 1\n",
    "      * summall += $1/n^2$\n",
    " \n",
    "Implement the above procedure in python."
   ]
  },
  {
   "cell_type": "code",
   "execution_count": 24,
   "metadata": {},
   "outputs": [
    {
     "data": {
      "text/plain": [
       "1001"
      ]
     },
     "execution_count": 24,
     "metadata": {},
     "output_type": "execute_result"
    }
   ],
   "source": [
    "import math\n",
    "from __future__ import division\n",
    "\n",
    "\n",
    "def approximation():\n",
    "    sumi = 0\n",
    "    i = 1 \n",
    "    while math.pi**2/6 - sumi > .001:\n",
    "        sumi += 1/i**2\n",
    "        i +=1 \n",
    "    return i\n",
    "approximation()"
   ]
  },
  {
   "cell_type": "markdown",
   "metadata": {},
   "source": [
    "#### Exerecis:\n",
    "Write a function to get an integer number from input and check if it is a power of 3 our not.\n",
    "\n",
    "Hint: One simple way of finding out if a number n is a power of a number b is to keep dividing n by b as long as the remainder is 0. This is because we can write\n",
    "\n",
    "$$n=b^k=b\\times b\\times\\cdots \\times b$$\n",
    "\n",
    "Hence it should be possible to divide n by b repteatedly as far as the remainder is 0 and the check if the end result is 1.\n",
    "\n",
    "Aysun: I know you are searching it !!! so think a little before searching !!!"
   ]
  },
  {
   "cell_type": "code",
   "execution_count": 25,
   "metadata": {},
   "outputs": [
    {
     "data": {
      "text/plain": [
       "True"
      ]
     },
     "execution_count": 25,
     "metadata": {},
     "output_type": "execute_result"
    }
   ],
   "source": [
    "def powerOf3(x):\n",
    "    if x < 1:\n",
    "        return False\n",
    "    while (x % 3 == 0):\n",
    "        x = x / 3\n",
    "    return x == 1\n",
    "powerOf3(27)"
   ]
  },
  {
   "cell_type": "markdown",
   "metadata": {},
   "source": [
    "#### Exerecis:\n",
    "The following function counts the number of decimal digits in a positive integer:"
   ]
  },
  {
   "cell_type": "code",
   "execution_count": null,
   "metadata": {},
   "outputs": [],
   "source": [
    "def num_digits(n):\n",
    "    count = 0\n",
    "    while n != 0:\n",
    "        count = count + 1\n",
    "        n = n // 10\n",
    "    return count"
   ]
  },
  {
   "cell_type": "markdown",
   "metadata": {},
   "source": [
    "Modify the above functions to only count digits that are either 0 or 5."
   ]
  },
  {
   "cell_type": "code",
   "execution_count": null,
   "metadata": {},
   "outputs": [],
   "source": []
  },
  {
   "cell_type": "markdown",
   "metadata": {},
   "source": [
    "## Middle exit: break\n",
    "Sometimes we’d like to have the middle-test loop with the exit test in the middle of the body, rather than at the beginning or at the end. Or a post-test loop that puts its exit test as the last thing in the body.A combination of while and if condition: break to get the job done.\n",
    "\n",
    "Example: \n",
    "The user has to input numbers to be summed. To indicate that there are no more inputs, the user enters a  empty string. This needs a middle-exit loop pattern: input the next number, then test whether to exit, or else process the number:"
   ]
  },
  {
   "cell_type": "code",
   "execution_count": 14,
   "metadata": {},
   "outputs": [
    {
     "name": "stdout",
     "output_type": "stream",
     "text": [
      "Enter the next number. (Leave blank to end)\n",
      "The total of the numbers you entered is 0\n"
     ]
    }
   ],
   "source": [
    "#if it does not work replace raw_input and input\n",
    "total = 0\n",
    "while True:\n",
    "    response = raw_input(\"Enter the next number. (Leave blank to end)\")\n",
    "    if response == \"\":\n",
    "        break\n",
    "    total += int(response)\n",
    "\n",
    "print(\"The total of the numbers you entered is \" + str(total))\n"
   ]
  },
  {
   "cell_type": "markdown",
   "metadata": {},
   "source": [
    "**while True** means always do the loop body again. line 3 does some useful work, lines 4 and 5 can exit the loop, and if they don’t line 6 does more useful work before the next iteration starts.\n",
    "\n",
    "**while True** helps to exit in the middle of program. It become import if we want to make sure the iteration is runned at leas once.\n",
    "\n",
    "#### Exercise:\n",
    "write a function that generates random numbers between 0 and 100 and print them. We continue looping until we acquire a random number that is odd. Note that we are genreting at least one before stoping. \n",
    "Hint: you can use np.random.randint(100) to generate a random number. \n",
    " "
   ]
  },
  {
   "cell_type": "code",
   "execution_count": null,
   "metadata": {},
   "outputs": [],
   "source": [
    "import numpy as np\n",
    "def random_even():\n",
    "    \n",
    "\n",
    "\n"
   ]
  },
  {
   "cell_type": "markdown",
   "metadata": {},
   "source": [
    "#### Exercise: \n",
    "Write a function that get a and b from input and return p and calculte quotient (q) and reminder (r) of the fraction a over b.\n",
    "Here, you are only allowed to use subtraction and not division. \n",
    "This was uber interview question. !!!\n",
    "Hint: read this example to clarify the procedure https://math.stackexchange.com/q/186425\n",
    "  "
   ]
  },
  {
   "cell_type": "code",
   "execution_count": null,
   "metadata": {},
   "outputs": [],
   "source": [
    "def division(a,b):\n",
    "    while ....\n",
    "    return q, r"
   ]
  },
  {
   "cell_type": "markdown",
   "metadata": {},
   "source": [
    "# Nested Loop:\n",
    "It is nothing just more than a loop inside another loop. If one use,  the complixty (running time) of the algorithm is $O(n^2)$. Suppose we want to creat the <a href =https://en.wikipedia.org/wiki/Multiplication_table> multiplication table </a> . The following code print the 4th row of this table:\n",
    "\n"
   ]
  },
  {
   "cell_type": "code",
   "execution_count": 17,
   "metadata": {},
   "outputs": [
    {
     "name": "stdout",
     "output_type": "stream",
     "text": [
      "0 4 8 12 16 20 24 28 32 36\n"
     ]
    }
   ],
   "source": [
    "for j in range(10):\n",
    "    print j*4,\n",
    "print "
   ]
  },
  {
   "cell_type": "markdown",
   "metadata": {},
   "source": [
    "#### Exercise:\n",
    "Write a function to get $n,m$ from the input and print the $n\\times m$ multipicative table.  "
   ]
  },
  {
   "cell_type": "code",
   "execution_count": null,
   "metadata": {},
   "outputs": [],
   "source": []
  },
  {
   "cell_type": "markdown",
   "metadata": {},
   "source": [
    "#### Exerices:\n",
    "Write a Python program to construct the following pattern, using a nested for loop."
   ]
  },
  {
   "cell_type": "raw",
   "metadata": {},
   "source": [
    "o \n",
    "o o \n",
    "o o o \n",
    "o o o o \n",
    "o o o o o "
   ]
  },
  {
   "cell_type": "markdown",
   "metadata": {},
   "source": [
    "#### Exercise:\n",
    "write a function to get n and compute the following sumation\n",
    "\n",
    "$$1+ \\frac{1}{2^2} + \\frac{1}{3^3}+ \\frac{1}{4^4} +\\cdots +\\frac{1}{n^n}$$\n",
    "do not use exponant only write by using multipication.\n",
    "\n"
   ]
  },
  {
   "cell_type": "code",
   "execution_count": null,
   "metadata": {},
   "outputs": [],
   "source": []
  },
  {
   "cell_type": "markdown",
   "metadata": {},
   "source": [
    "Now, suppose that you are not given $n$. The loop contiue the calcuting the sumation as far as $\\frac{1}{n^n}>.000001$.\n",
    "Hint: Do you use while loop or for loop?"
   ]
  },
  {
   "cell_type": "code",
   "execution_count": null,
   "metadata": {},
   "outputs": [],
   "source": []
  },
  {
   "cell_type": "markdown",
   "metadata": {},
   "source": [
    "#### Exercise:\n",
    "\n",
    "write a function to get a list from the input and return a list of lists which includes all the rotations to the left of the orginal list. For example if the input list is $[4,1,8,9]$ then it returns \n",
    "\\begin{align*}\n",
    "[[ 4,1,8,9],\\\\\n",
    " [9,4,1,8],\\\\\n",
    " [8,9,4,1],\\\\\n",
    " [1,8,9,4]]\\\\\n",
    "\\end{align*}"
   ]
  },
  {
   "cell_type": "code",
   "execution_count": null,
   "metadata": {},
   "outputs": [],
   "source": []
  },
  {
   "cell_type": "markdown",
   "metadata": {},
   "source": [
    "# List (Review):\n",
    "You have to read:\n",
    "http://www.openbookproject.net/thinkcs/python/english3e/lists.html\n",
    "    \n",
    "Specificlly, make sure that you knows the meaning of:\n",
    "    * Range(2,10,3)\n",
    "    * lst.append(2)\n",
    "    * lst.extend([2,3,4])\n",
    "    * lst[2:], lst[:5],lst[2:7], lst[1,10,2]\n",
    "    * enumerate\n",
    "    * [x for x in lst if x>2]\n",
    "    \n",
    "\n",
    "\n"
   ]
  },
  {
   "cell_type": "markdown",
   "metadata": {},
   "source": [
    "#### Exercise: \n",
    "write a function to get a list and returns the last five elements of the list"
   ]
  },
  {
   "cell_type": "code",
   "execution_count": null,
   "metadata": {},
   "outputs": [],
   "source": []
  },
  {
   "cell_type": "markdown",
   "metadata": {},
   "source": [
    "#### Exercise: \n",
    "write a function to get a list and returns the last five elements of the list"
   ]
  },
  {
   "cell_type": "code",
   "execution_count": null,
   "metadata": {},
   "outputs": [],
   "source": []
  },
  {
   "cell_type": "markdown",
   "metadata": {},
   "source": [
    "#### Exercise: \n",
    "write a one line functuin to get a list and returns the odd numbers in the list"
   ]
  },
  {
   "cell_type": "code",
   "execution_count": null,
   "metadata": {},
   "outputs": [],
   "source": []
  },
  {
   "cell_type": "markdown",
   "metadata": {},
   "source": [
    "#### Exercise: \n",
    "write a one line functuin to get a list and a number and multiply all the elemnts of the list to that number."
   ]
  },
  {
   "cell_type": "code",
   "execution_count": null,
   "metadata": {},
   "outputs": [],
   "source": []
  },
  {
   "cell_type": "markdown",
   "metadata": {},
   "source": [
    "#### Exercise: \n",
    "write a functuin to get a list and returns the values in the list for which the index is odd. "
   ]
  },
  {
   "cell_type": "code",
   "execution_count": null,
   "metadata": {},
   "outputs": [],
   "source": []
  },
  {
   "cell_type": "markdown",
   "metadata": {},
   "source": [
    "## Functions that produce lists:\n",
    "Whenever you need to write a function that creates and returns a list, the pattern is usually:\n",
    "\n",
    "    initialize a result variable to be an empty list\n",
    "    loop\n",
    "        create a new element\n",
    "        append it to result\n",
    "    return the result\n"
   ]
  },
  {
   "cell_type": "markdown",
   "metadata": {},
   "source": [
    "#### Exercises \n",
    "write a function that takes two lists of numbers of the same length, and returns a new list containing the sums of the corresponding elements of each:\n",
    "\n",
    "add_vectors([1, 2, 1], [1, 4, 3])\n",
    "\n",
    "answer: [2, 6, 4]"
   ]
  },
  {
   "cell_type": "code",
   "execution_count": null,
   "metadata": {},
   "outputs": [],
   "source": []
  },
  {
   "cell_type": "markdown",
   "metadata": {},
   "source": [
    "#### exercise\n",
    "Write a function replace(s, old, new) that replaces all occurrences of old with new in a list s:\n",
    "\n",
    "\n",
    "example:\n",
    "s = ['d','a','v','o','o','d','o','b','a','l']\n",
    "\n",
    "replace(s, \"o\", \"b\")\n",
    "\n",
    "answer: ['d','a','v','b','b','d','b','b','a','l']\n",
    "\n"
   ]
  },
  {
   "cell_type": "code",
   "execution_count": null,
   "metadata": {},
   "outputs": [],
   "source": []
  },
  {
   "cell_type": "markdown",
   "metadata": {},
   "source": []
  },
  {
   "cell_type": "code",
   "execution_count": null,
   "metadata": {},
   "outputs": [],
   "source": []
  },
  {
   "cell_type": "markdown",
   "metadata": {},
   "source": [
    "\n"
   ]
  },
  {
   "cell_type": "code",
   "execution_count": null,
   "metadata": {},
   "outputs": [],
   "source": []
  },
  {
   "cell_type": "code",
   "execution_count": null,
   "metadata": {},
   "outputs": [],
   "source": []
  },
  {
   "cell_type": "code",
   "execution_count": null,
   "metadata": {},
   "outputs": [],
   "source": []
  },
  {
   "cell_type": "code",
   "execution_count": null,
   "metadata": {},
   "outputs": [],
   "source": []
  },
  {
   "cell_type": "markdown",
   "metadata": {},
   "source": [
    "# Resources:\n",
    "* Check you code here:\n",
    "   *  http://pythontutor.com/live.html#mode=edit\n",
    "   \n",
    "* Here I is a list of good resources for python:\n",
    "   * https://www.w3resource.com/python-exercises\n",
    "   * http://www.openbookproject.net/thinkcs/python/english3e/    \n",
    " \n",
    "* Problems:\n",
    "    * 500 questions but they are hard !!:\n",
    "        * https://techiedelight.quora.com/500-Data-Structures-and-Algorithms-practice-problems-and-their-solutions\n",
    "    * https://coderbyte.com/challenges/?a=true#search\n",
    "    \n",
    "* Algorithm:\n",
    "   * The main text book: easy \n",
    "     http://ressources.unisciel.fr/algoprog/s00aaroot/aa00module1/res/%5BCormen-AL2011%5DIntroduction_To_Algorithms-A3.pdf\n",
    "   * shorter but difficult:\n",
    "http://citeseerx.ist.psu.edu/viewdoc/download?doi=10.1.1.471.4772&rep=rep1&type=pdf\n",
    "   * advance topics but lots of easy examples :D\n",
    "   * https://www.cs.auckland.ac.nz/courses/compsci105s1c/resources/ProblemSolvingwithAlgorithmsandDataStructures.pdf"
   ]
  },
  {
   "cell_type": "code",
   "execution_count": null,
   "metadata": {},
   "outputs": [],
   "source": []
  },
  {
   "cell_type": "code",
   "execution_count": null,
   "metadata": {},
   "outputs": [],
   "source": []
  },
  {
   "cell_type": "code",
   "execution_count": null,
   "metadata": {},
   "outputs": [],
   "source": []
  }
 ],
 "metadata": {
  "kernelspec": {
   "display_name": "Python 2",
   "language": "python",
   "name": "python2"
  },
  "language_info": {
   "codemirror_mode": {
    "name": "ipython",
    "version": 2
   },
   "file_extension": ".py",
   "mimetype": "text/x-python",
   "name": "python",
   "nbconvert_exporter": "python",
   "pygments_lexer": "ipython2",
   "version": "2.7.14"
  }
 },
 "nbformat": 4,
 "nbformat_minor": 2
}
