{
 "cells": [
  {
   "cell_type": "markdown",
   "metadata": {},
   "source": [
    "* The [crack interview book 6th edition](https://github.com/TechBookHunter/Free-Coding-Interview-Books/blob/master/book/Cracking%20the%20Coding%20Interview%2C%206th%20Edition.pdf)\n",
    "* python solution: https://github.com/careercup/CtCI-6th-Edition-Python/blob/master/"
   ]
  },
  {
   "cell_type": "markdown",
   "metadata": {},
   "source": [
    "# Link list\n",
    "\n",
    "* Find kth from end: two pointer with difference k. When the the front reach end the back one is in kth\n",
    "* delte a middle node: copy next one to this and delete the next one\n",
    "* two pointer: pre and node. initilize:     "
   ]
  },
  {
   "cell_type": "code",
   "execution_count": null,
   "metadata": {},
   "outputs": [],
   "source": [
    "pre = None, node = head \n",
    "if pre:\n",
    "    pre = node\n",
    "else:\n",
    "    pre = head\n",
    "node = node.next"
   ]
  },
  {
   "cell_type": "code",
   "execution_count": null,
   "metadata": {},
   "outputs": [],
   "source": [
    "Bit:\n",
    "   bin(2)[2:] \n",
    "x << y\n",
    "Returns x with the bits shifted to the left by y places (and new bits on the right-hand-side are zeros). This is the same as multiplying x by 2**y.\n",
    "x >> y\n",
    "Returns x with the bits shifted to the right by y places. This is the same as //'ing x by 2**y.\n",
    "x & y\n",
    "Does a \"bitwise and\". Each bit of the output is 1 if the corresponding bit of x AND of y is 1, otherwise it's 0.\n",
    "x | y\n",
    "Does a \"bitwise or\". Each bit of the output is 0 if the corresponding bit of x AND of y is 0, otherwise it's 1.\n",
    "~ x\n",
    "Returns the complement of x - the number you get by switching each 1 for a 0 and each 0 for a 1. This is the same as -x - 1.\n",
    "x ^ y\n",
    "Does a \"bitwise exclusive or\". Each bit of the output is the same as the corresponding bit in x if that bit in y is 0, and it's the complement of the bit in x if that bit in y is 1."
   ]
  }
 ],
 "metadata": {
  "kernelspec": {
   "display_name": "Python 2",
   "language": "python",
   "name": "python2"
  },
  "language_info": {
   "codemirror_mode": {
    "name": "ipython",
    "version": 2
   },
   "file_extension": ".py",
   "mimetype": "text/x-python",
   "name": "python",
   "nbconvert_exporter": "python",
   "pygments_lexer": "ipython2",
   "version": "2.7.14"
  }
 },
 "nbformat": 4,
 "nbformat_minor": 2
}
