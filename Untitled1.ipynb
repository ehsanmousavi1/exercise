{
 "cells": [
  {
   "cell_type": "markdown",
   "metadata": {},
   "source": [
    "# linear v.s. Bineary Search \n",
    "\n",
    "read this article:\n",
    "https://www.geeksforgeeks.org/linear-search-vs-binary-search/\n",
    "\n",
    "\n",
    "Here is difference between bineary search and linear search:\n",
    "<img src=\"./pics/search.png\" style=\"width: 600px;\" />\n"
   ]
  },
  {
   "cell_type": "markdown",
   "metadata": {},
   "source": [
    "#### linear search\n",
    "Here is the **linear search**:\n",
    "find the index of an element in a list. It might not be sorted:\n",
    "\n"
   ]
  },
  {
   "cell_type": "code",
   "execution_count": null,
   "metadata": {},
   "outputs": [],
   "source": [
    "def linear_search(array, value):\n",
    "    '''\n",
    "    Find the index of value in a array. If it does not exits it return -1\n",
    "    ''' \n",
    "    \n",
    "    for i in range(len(array)):\n",
    "        if array[i] == value:\n",
    "            return i\n",
    "    return -1"
   ]
  },
  {
   "cell_type": "markdown",
   "metadata": {},
   "source": [
    "## Bineary search:\n"
   ]
  },
  {
   "cell_type": "code",
   "execution_count": 2,
   "metadata": {},
   "outputs": [],
   "source": [
    "\n",
    "\n",
    "def binary_search(array, value):\n",
    "    \n",
    "    \"\"\"\n",
    "    Given a sorted array and a target value, return the index if the target is found.\n",
    "    If not, return the index where it would be if it were inserted in order.\n",
    "    \"\"\"\n",
    "    low  = 0\n",
    "    high = len(array)-1\n",
    "    \n",
    "    if value < array[low]:\n",
    "        indx = low\n",
    "    elif value > array[high]:\n",
    "        indx = high +1         \n",
    "    else:\n",
    "        while low < high:\n",
    "            mid = (low + high)//2\n",
    "            if array[mid]< value:\n",
    "                low = mid + 1\n",
    "            else:\n",
    "                high = mid\n",
    "        indx = low\n",
    "    return indx"
   ]
  },
  {
   "cell_type": "markdown",
   "metadata": {},
   "source": [
    "Modify the above code, such that for a given sorted array, find the index of v if it exits to the array. If it does not exits in array return -1.\n",
    "\n",
    "Input: arr = [2,4,5,5,6,10,12] , value = 8   \n",
    "output: -1\n",
    "\n",
    "Input: arr = [2,4,5,5,6,10,12] , value = 5   \n",
    "output: 2"
   ]
  },
  {
   "cell_type": "code",
   "execution_count": null,
   "metadata": {},
   "outputs": [],
   "source": []
  },
  {
   "cell_type": "markdown",
   "metadata": {},
   "source": [
    "Given a sorted array containing only numbers 0 and 1, the task is to find the transition point efficiently. Transition point is a point where “0” ends and “1” begins.  \n",
    "\n",
    "Examples :  \n",
    "\n",
    "Input : 0 0 0 1 1  \n",
    "Output : 3  \n",
    "Index of first 1 is 3  \n",
    "\n",
    "Input : 0 0 0 0 1 1 1 1  \n",
    "Output : 4  \n",
    "Index of first 1 is 4  "
   ]
  },
  {
   "cell_type": "code",
   "execution_count": null,
   "metadata": {},
   "outputs": [],
   "source": []
  },
  {
   "cell_type": "markdown",
   "metadata": {},
   "source": [
    "Given a sorted array, and a value $v$ find two elements x, y in array such that\n",
    "$$\n",
    " x + y= v\n",
    "$$\n",
    "\n",
    "If it does not exits return -1.\n",
    "Input : arr = 2 3 5 7 11 13 17 , v = 11\n",
    "output: -1\n",
    "    \n",
    "Input : arr = 2 3 5 7 11 13 17 , v = 13\n",
    "output: (2,11)\n",
    "    \n",
    "Note: You can write a naive aalgorithm to find in $O(n^2)$, or use a bineary search for $O(n \\log n)$.  \n",
    "Hint: obeserve that if $x+y =v$ then $x = v-y$"
   ]
  },
  {
   "cell_type": "code",
   "execution_count": null,
   "metadata": {},
   "outputs": [],
   "source": []
  }
 ],
 "metadata": {
  "kernelspec": {
   "display_name": "Python 2",
   "language": "python",
   "name": "python2"
  },
  "language_info": {
   "codemirror_mode": {
    "name": "ipython",
    "version": 2
   },
   "file_extension": ".py",
   "mimetype": "text/x-python",
   "name": "python",
   "nbconvert_exporter": "python",
   "pygments_lexer": "ipython2",
   "version": "2.7.14"
  }
 },
 "nbformat": 4,
 "nbformat_minor": 2
}
