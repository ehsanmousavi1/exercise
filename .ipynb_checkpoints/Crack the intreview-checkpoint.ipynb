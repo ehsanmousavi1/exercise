{
 "cells": [
  {
   "cell_type": "markdown",
   "metadata": {},
   "source": [
    "* The [crack interview book 6th edition](https://github.com/TechBookHunter/Free-Coding-Interview-Books/blob/master/book/Cracking%20the%20Coding%20Interview%2C%206th%20Edition.pdf)\n",
    "* python solution: https://github.com/careercup/CtCI-6th-Edition-Python/blob/master/"
   ]
  },
  {
   "cell_type": "markdown",
   "metadata": {},
   "source": [
    "# Link list\n",
    "\n",
    "* Find kth from end: two pointer with difference k. When the the front reach end the back one is in kth\n",
    "* delte a middle node: copy next one to this and delete the next one\n",
    "* two pointer: pre and node. initilize:     "
   ]
  },
  {
   "cell_type": "code",
   "execution_count": null,
   "metadata": {},
   "outputs": [],
   "source": [
    "pre = None, node = head \n",
    "if pre:\n",
    "    pre = node\n",
    "else:\n",
    "    pre = head\n",
    "node = node.next"
   ]
  }
 ],
 "metadata": {
  "kernelspec": {
   "display_name": "Python 2",
   "language": "python",
   "name": "python2"
  },
  "language_info": {
   "codemirror_mode": {
    "name": "ipython",
    "version": 2
   },
   "file_extension": ".py",
   "mimetype": "text/x-python",
   "name": "python",
   "nbconvert_exporter": "python",
   "pygments_lexer": "ipython2",
   "version": "2.7.14"
  }
 },
 "nbformat": 4,
 "nbformat_minor": 2
}
