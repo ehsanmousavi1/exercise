{
 "cells": [
  {
   "cell_type": "markdown",
   "metadata": {},
   "source": [
    "# Sorting\n",
    "## Insertion Sort\n",
    "\n",
    "#### 1. linear sereach:\n",
    "\n",
    "Implement a function which get the following input and return the output:\n",
    "\n",
    "   **Input**: A list of n numbers $A = [a_1,\\ldots,a_n]$ and a value $v$.\n",
    "\n",
    "   **Output**: An index i such that  A[i] = v or -1 if $v$ does not appear in A.\n",
    " \n",
    "Hint: Using a loop invariant, scans through the sequence, looking\n",
    "for $v$. "
   ]
  },
  {
   "cell_type": "code",
   "execution_count": null,
   "metadata": {},
   "outputs": [],
   "source": []
  },
  {
   "cell_type": "markdown",
   "metadata": {},
   "source": [
    "* what is the complexity of you algorithm?"
   ]
  },
  {
   "cell_type": "code",
   "execution_count": null,
   "metadata": {},
   "outputs": [],
   "source": []
  },
  {
   "cell_type": "markdown",
   "metadata": {},
   "source": [
    "#### Exercise. \n",
    "Modify your function for as follow:\n",
    "\n",
    "   **Input**: A sorted list of numbers $A = [a_1,\\ldots,a_n]$ and a value $v$.\n",
    "   \n",
    "   **output**: insert $v$ into the array so that it remains sorted\n",
    "   \n",
    "Example:  $A = [1,3,5,10,12]$ , $v= 4$\n",
    "\n",
    "output: $[1,3,4,5,10,12]$"
   ]
  },
  {
   "cell_type": "code",
   "execution_count": null,
   "metadata": {},
   "outputs": [],
   "source": []
  },
  {
   "cell_type": "markdown",
   "metadata": {},
   "source": [
    "Now read and implemt the insertion sort:\n",
    "    https://www.geeksforgeeks.org/insertion-sort/"
   ]
  },
  {
   "cell_type": "markdown",
   "metadata": {},
   "source": [
    "#### Exercise:\n",
    "\n",
    "Write a program to generates n random numbers and return the minimum and the maximum of these n numbers. Suppose that (for some secuirty reseon)\n",
    "\n",
    "you are not allow to save the generated numbers in the memory. You can use the following idea:"
   ]
  },
  {
   "cell_type": "raw",
   "metadata": {},
   "source": [
    " Initialize: mini = 0, maxi =0\n",
    "    Reapt:\n",
    "        generate random number x\n",
    "        compare x with mini and maxi and update them if x< mini or x>maxi"
   ]
  },
  {
   "cell_type": "code",
   "execution_count": null,
   "metadata": {},
   "outputs": [],
   "source": []
  },
  {
   "cell_type": "markdown",
   "metadata": {},
   "source": [
    "Implement the **selection sort**:\n",
    "* over the whole array find the position of the maximum element;\n",
    "* swap this element with the last one (because in the sorted array it should be the last, of course) \n",
    "* now regard the sub-array of length N-1, without the last value:\n",
    "   * find the position of maximum element in this sub-array \n",
    "   * swap it with the last element in the sub-array (i.e. with position N-2);\n",
    "   * now regard the sub-array of the length N-2 (without two last elements) - do the following selection and swap and so on;\n",
    "algorithm ends when \"sub-array\" decreases to the length of 1.\n",
    "\n",
    "Read the https://www.geeksforgeeks.org/selection-sort/\n"
   ]
  },
  {
   "cell_type": "raw",
   "metadata": {},
   "source": [
    "Example: \n",
    "[3, 1, 4, 1, 5, 9, 2, 6, 5, 3]      - max is 9 at position 5, swap 5-th with 9-th\n",
    "[3, 1, 4, 1, 5, 3, 2, 6, 5], 9      - max is 6 at position 7, swap 7-th with 8-th\n",
    "[3, 1, 4, 1, 5, 3, 2, 5], 6, 9      - max is 5 at position 4, swap 4-th with 7-th - they are equal!\n",
    "[3, 1, 4, 1, 5, 3, 2], 5, 6, 9      - max is 5 at position 4, swap 4-th with 6-th\n",
    "[3, 1, 4, 1, 2, 3], 5, 5, 6, 9      - max is 4 at position 2, swap 2-th with 5-th\n",
    "[3, 1, 3, 1, 2], 4, 5, 5, 6, 9\n",
    "...\n",
    "[1], 1, 2, 3, 3, 4, 5, 5, 6, 9      - subarray of length 1 is reached, stop an algorithm."
   ]
  },
  {
   "cell_type": "code",
   "execution_count": null,
   "metadata": {},
   "outputs": [],
   "source": []
  },
  {
   "cell_type": "markdown",
   "metadata": {},
   "source": [
    "#### Exercise:\n",
    "Write a function which take a list of length $n>10$ and return the $k$ largest numbers in the list. \n",
    "\n",
    "Hint: it is exactly similar to the selection sort. Only you have to modify it.\n"
   ]
  },
  {
   "cell_type": "code",
   "execution_count": null,
   "metadata": {},
   "outputs": [],
   "source": []
  },
  {
   "cell_type": "markdown",
   "metadata": {},
   "source": [
    "Note that the your implemention includes a nested loop. the first one is repeated n times and the second one is reptead k time. So the complixity of your code is $O(nk)$ which is much smaller compring to $O(n log(n))$. \n"
   ]
  },
  {
   "cell_type": "code",
   "execution_count": null,
   "metadata": {},
   "outputs": [],
   "source": []
  },
  {
   "cell_type": "markdown",
   "metadata": {},
   "source": [
    "## quick sort\n",
    "#### Exercise \n",
    "Write a function to take a list (A) and a value (x) and print all the members of the list which are less than x.\n",
    "\n"
   ]
  },
  {
   "cell_type": "code",
   "execution_count": null,
   "metadata": {},
   "outputs": [],
   "source": []
  },
  {
   "cell_type": "markdown",
   "metadata": {},
   "source": [
    "###   Partion:\n",
    "#### Exercise: \n",
    "* Modify the above function to takes a list say lst and a number (pivot) say x from the input, and return three lists. The first list includes all the numbers in lst less than the pivot x, the second list are equale to x and the third list are greater than x.\n",
    "\n",
    "Example:\n",
    "\n",
    "Input:  lst=[2,5,2,3,6,1,3], pivot= 3\n",
    "\n",
    "Return:  [2,2,1],[3,3],[5,3,6]\n",
    " "
   ]
  },
  {
   "cell_type": "code",
   "execution_count": null,
   "metadata": {},
   "outputs": [],
   "source": [
    "def partion(lst,pivot):\n",
    "    ....\n",
    "    ....\n",
    "    return lst_left,lst_equ,lst_right"
   ]
  },
  {
   "cell_type": "markdown",
   "metadata": {},
   "source": [
    "* write a function to take a list of numbers and return the sumation of positive numbers in the list and also the sumation of negative numbers in the list.   \n",
    "**Hint:** you can call the **partion** you wrote in previous part."
   ]
  },
  {
   "cell_type": "code",
   "execution_count": null,
   "metadata": {},
   "outputs": [],
   "source": []
  },
  {
   "cell_type": "markdown",
   "metadata": {},
   "source": [
    "* We know that a list only includes $\\{1,2,3\\}$. write a function to take the list and sort it.  \n",
    "Hint: you can use partion function (or modify that).  \n"
   ]
  },
  {
   "cell_type": "code",
   "execution_count": null,
   "metadata": {},
   "outputs": [],
   "source": []
  },
  {
   "cell_type": "markdown",
   "metadata": {},
   "source": [
    "* We know that a list only includes $\\{1,2,3,4,5,6,7\\}$. Modify the following function such that the put put be sorted."
   ]
  },
  {
   "cell_type": "code",
   "execution_count": 10,
   "metadata": {},
   "outputs": [
    {
     "name": "stdout",
     "output_type": "stream",
     "text": [
      "[1, 1, 1, 1, 1, 1, 1, 1, 2, 2, 3, 3, 3, 3, 3, 4, 4, 4, 4, 4, 4, 4, 4, 6, 7, 7, 6, 6, 5, 6, 7, 6, 7, 5, 6, 6, 7, 5, 7, 5, 5, 5, 7, 7, 5, 6, 5, 7, 6, 5]\n"
     ]
    }
   ],
   "source": [
    "def limited_sort(lst):\n",
    "    L,E,R    = partion(lst,4)\n",
    "    LL,LE,LR = partion(L,2)\n",
    "    sorted_L = LL+LE+LR\n",
    "    return  sorted_L + E + R\n",
    "\n",
    "# test:\n",
    "lst = [6, 7, 7, 6, 6, 3, 3, 4, 5, 1, 3, 1, 1, 1, 6, 7, 1, 3, 2, 6, 1, 4,\n",
    "       4, 4, 7, 5, 6, 6, 7, 5, 7, 5, 5, 1, 2, 5, 4, 7, 7, 5, 3, 4, 6, 5,\n",
    "       7, 6, 1, 4, 5, 4]\n",
    "print(limited_sort(lst))"
   ]
  },
  {
   "cell_type": "code",
   "execution_count": null,
   "metadata": {},
   "outputs": [],
   "source": []
  }
 ],
 "metadata": {
  "kernelspec": {
   "display_name": "Python 2",
   "language": "python",
   "name": "python2"
  },
  "language_info": {
   "codemirror_mode": {
    "name": "ipython",
    "version": 2
   },
   "file_extension": ".py",
   "mimetype": "text/x-python",
   "name": "python",
   "nbconvert_exporter": "python",
   "pygments_lexer": "ipython2",
   "version": "2.7.14"
  }
 },
 "nbformat": 4,
 "nbformat_minor": 2
}
