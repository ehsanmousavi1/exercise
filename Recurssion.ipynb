{
 "cells": [
  {
   "cell_type": "markdown",
   "metadata": {},
   "source": [
    "# Recurssion\n",
    "\n",
    "Read chapter 4 of this refrence:\n",
    "https://www.cs.auckland.ac.nz/courses/compsci105s1c/resources/ProblemSolvingwithAlgorithmsandDataStructures.pdf\n",
    "\n",
    "1. A recursive algorithm must have a base case.\n",
    "2. A recursive algorithm must change its state and move toward the base case. \n",
    "3. A recursive algorithm must call itself, recursively.\n",
    "\n"
   ]
  },
  {
   "cell_type": "markdown",
   "metadata": {},
   "source": [
    "By using the recurssion find the minimum of a list"
   ]
  },
  {
   "cell_type": "code",
   "execution_count": null,
   "metadata": {},
   "outputs": [],
   "source": [
    "def mini_rec(lst):\n",
    "    if len(lst)==1:\n",
    "        return lst[0]\n",
    "    else:\n",
    "        m = mini_rec(lst[:-1])  # minimum of the first n-1 elements\n",
    "        last = lst[-1]\n",
    "        return min(last,m)"
   ]
  },
  {
   "cell_type": "markdown",
   "metadata": {},
   "source": [
    "write a recurssion function to find the summation of a list.   \n",
    "Hint: you look at this figure.\n",
    "\n",
    "<img src=\"pics/recurssion.png\" alt=\"Drawing\" style=\"width: 300px;\"/>\n",
    "\n"
   ]
  },
  {
   "cell_type": "code",
   "execution_count": null,
   "metadata": {},
   "outputs": [],
   "source": []
  },
  {
   "cell_type": "markdown",
   "metadata": {},
   "source": [
    "write a recussion function to take n as input and compute n factorial defined by\n",
    "$$n! = 1\\times 2\\times \\cdots\\times n$$"
   ]
  },
  {
   "cell_type": "code",
   "execution_count": null,
   "metadata": {},
   "outputs": [],
   "source": []
  },
  {
   "cell_type": "markdown",
   "metadata": {},
   "source": [
    "There are only 10 dogs in towns. Every year the population of dogs become twice. Write a recurression function to find the the population of dogs after $n$ years."
   ]
  },
  {
   "cell_type": "code",
   "execution_count": null,
   "metadata": {},
   "outputs": [],
   "source": []
  },
  {
   "cell_type": "markdown",
   "metadata": {},
   "source": [
    "With letters $a,b$ how many different strings you can genrate with length $n$. Write a recurssion function to compute that."
   ]
  },
  {
   "cell_type": "code",
   "execution_count": null,
   "metadata": {},
   "outputs": [],
   "source": []
  },
  {
   "cell_type": "markdown",
   "metadata": {},
   "source": [
    "Write a recursive function to reverse a list.\n",
    "    "
   ]
  },
  {
   "cell_type": "code",
   "execution_count": null,
   "metadata": {},
   "outputs": [],
   "source": []
  },
  {
   "cell_type": "markdown",
   "metadata": {},
   "source": [
    "\n",
    "Write a recursive function to compute the Fibonacci sequence. How does the perfor- mance of the recursive function compare to that of an iterative version?\n",
    "\n",
    "$$ F[n] = F[n-1]+ F[n-2]$$\n",
    "and $F[0] =1,F[1]=1$"
   ]
  },
  {
   "cell_type": "code",
   "execution_count": null,
   "metadata": {},
   "outputs": [],
   "source": []
  },
  {
   "cell_type": "markdown",
   "metadata": {},
   "source": [
    "Sum of digit of a number using recursion  \n",
    "Given a number, we need to find sum of its digits using recursion.  \n",
    "\n",
    "Examples:  \n",
    "\n",
    "Input : 12345  \n",
    "Output : 15  \n",
    "\n",
    "Input : 45632  \n",
    "Output :20  \n",
    "          "
   ]
  },
  {
   "cell_type": "code",
   "execution_count": null,
   "metadata": {},
   "outputs": [],
   "source": []
  },
  {
   "cell_type": "markdown",
   "metadata": {},
   "source": [
    "Generate all binary strings without consecutive 1’s  \n",
    "Given a integer K. Task is Print All binary string of size K (Given number).  \n",
    "\n",
    "Examples:  \n",
    "\n",
    "Input : K = 3    \n",
    "Output : 000 , 001 , 010 , 100 , 101   \n",
    "\n",
    "Input : K  = 4   \n",
    "Output :0000 0001 0010 0100 0101 1000 1001 1010    "
   ]
  },
  {
   "cell_type": "code",
   "execution_count": null,
   "metadata": {},
   "outputs": [],
   "source": []
  },
  {
   "cell_type": "code",
   "execution_count": null,
   "metadata": {},
   "outputs": [],
   "source": []
  }
 ],
 "metadata": {
  "kernelspec": {
   "display_name": "Python 2",
   "language": "python",
   "name": "python2"
  },
  "language_info": {
   "codemirror_mode": {
    "name": "ipython",
    "version": 2
   },
   "file_extension": ".py",
   "mimetype": "text/x-python",
   "name": "python",
   "nbconvert_exporter": "python",
   "pygments_lexer": "ipython2",
   "version": "2.7.14"
  }
 },
 "nbformat": 4,
 "nbformat_minor": 2
}
